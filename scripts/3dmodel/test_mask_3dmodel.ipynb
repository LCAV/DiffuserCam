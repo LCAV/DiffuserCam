{
 "cells": [
  {
   "cell_type": "code",
   "execution_count": null,
   "metadata": {},
   "outputs": [],
   "source": [
    "%load_ext autoreload\n",
    "%autoreload 2"
   ]
  },
  {
   "cell_type": "code",
   "execution_count": null,
   "metadata": {},
   "outputs": [],
   "source": [
    "from platform import python_version\n",
    "\n",
    "print(python_version())"
   ]
  },
  {
   "cell_type": "code",
   "execution_count": null,
   "metadata": {},
   "outputs": [],
   "source": [
    "from lensless.hardware.mask import FresnelZoneAperture\n",
    "from lensless.hardware.mask_3dmodel import Mask3DModel, SimpleFrame, SaltireConnection\n",
    "\n",
    "distanse_sensor = 10e-6\n",
    "radius = 0.7e-3\n",
    "downsample = 16\n",
    "simplify = True # simplifying the model into one solid object takes a considerable amount of time. But makes post processing easier.\n",
    "\n",
    "mask = FresnelZoneAperture.from_sensor(\n",
    "    sensor_name=\"rpi_hq\", downsample=downsample, distance_sensor=distanse_sensor, radius=radius\n",
    ")\n",
    "\n",
    "mask_model = Mask3DModel.from_mask(mask, \n",
    "    frame = SimpleFrame(), \n",
    "    connection = SaltireConnection(line_width=0.1, mask_radius=radius*1e3), \n",
    "    height=1,\n",
    "    simplify=simplify,\n",
    "    generate = True,\n",
    ")\n",
    "\n",
    "display(mask_model.model)\n",
    "\n",
    "from datetime import datetime\n",
    "date_str = datetime.now().strftime(\"%d.%m.%Y-%H.%M\")\n",
    "mask_model.save(f\"out/fza_downsample{downsample}_radius{radius*1000:.2f}mm{'_min' if simplify else ''}_{date_str}.stl\")"
   ]
  },
  {
   "cell_type": "code",
   "execution_count": null,
   "metadata": {},
   "outputs": [],
   "source": [
    "import matplotlib.pyplot as plt\n",
    "print(mask.mask.shape)\n",
    "plt.imshow(mask.mask)"
   ]
  }
 ],
 "metadata": {
  "kernelspec": {
   "display_name": "lensless",
   "language": "python",
   "name": "python3"
  },
  "language_info": {
   "codemirror_mode": {
    "name": "ipython",
    "version": 3
   },
   "file_extension": ".py",
   "mimetype": "text/x-python",
   "name": "python",
   "nbconvert_exporter": "python",
   "pygments_lexer": "ipython3",
   "version": "3.9.16"
  },
  "orig_nbformat": 4
 },
 "nbformat": 4,
 "nbformat_minor": 2
}
