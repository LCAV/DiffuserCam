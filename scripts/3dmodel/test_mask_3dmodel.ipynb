{
 "cells": [
  {
   "cell_type": "code",
   "execution_count": null,
   "metadata": {},
   "outputs": [],
   "source": [
    "%load_ext autoreload\n",
    "%autoreload 2"
   ]
  },
  {
   "cell_type": "code",
   "execution_count": null,
   "metadata": {},
   "outputs": [],
   "source": [
    "from lensless.hardware.mask_3dmodel import HemnisphereLenses, mold_from_mask\n",
    "\n",
    "downsample = 16\n",
    "simplify = False # simplifying the model into one solid object takes a considerable amount of time. But makes post processing easier.\n",
    "\n",
    "mask_model = HemnisphereLenses(N=30, dmin=0.1e-3, dmax=1.5e-3)\n",
    "\n",
    "model = mold_from_mask(mask_model.model)\n",
    "\n",
    "display(model)"
   ]
  }
 ],
 "metadata": {
  "kernelspec": {
   "display_name": "lensless",
   "language": "python",
   "name": "python3"
  },
  "language_info": {
   "codemirror_mode": {
    "name": "ipython",
    "version": 3
   },
   "file_extension": ".py",
   "mimetype": "text/x-python",
   "name": "python",
   "nbconvert_exporter": "python",
   "pygments_lexer": "ipython3",
   "version": "3.9.16"
  },
  "orig_nbformat": 4
 },
 "nbformat": 4,
 "nbformat_minor": 2
}
