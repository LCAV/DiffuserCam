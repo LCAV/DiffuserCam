{
 "cells": [
  {
   "cell_type": "code",
   "execution_count": null,
   "metadata": {},
   "outputs": [],
   "source": [
    "%load_ext autoreload\n",
    "%autoreload 2"
   ]
  },
  {
   "cell_type": "code",
   "execution_count": null,
   "metadata": {},
   "outputs": [],
   "source": [
    "distanse_sensor = 10e-6 # not used\n",
    "\n",
    "# using a pixel based method to generating the mask is slow.\n",
    "# What is does is:\n",
    "# - check each pixel and create a box if the pixel is opaque.\n",
    "# - merge all the boxes together (if simplify is True)\n",
    "# Thus the mask is downsampled to a size where the processing time is reasonable. \n",
    "downsample = 16 \n",
    "\n",
    "# simplifying the model into one solid object takes a considerable amount of time. But makes post processing easier and the resulting file much smaller\n",
    "simplify = True"
   ]
  },
  {
   "cell_type": "code",
   "execution_count": null,
   "metadata": {},
   "outputs": [],
   "source": [
    "from lensless.hardware.mask import FresnelZoneAperture, CodedAperture\n",
    "from lensless.hardware.mask_3dmodel import Mask3DModel, SimpleFrame, CodedAppertureConnection, ThreePointConnection, HemnisphereLenses, mold_from_mask\n",
    "import cadquery as cq\n",
    "from datetime import datetime\n",
    "\n",
    "def fza_gen(r, h=0.5):\n",
    "    mask = FresnelZoneAperture.from_sensor(\n",
    "        sensor_name=\"rpi_hq\", downsample=downsample, distance_sensor=distanse_sensor, radius=r\n",
    "    )\n",
    "\n",
    "    mask_model = Mask3DModel.from_mask(mask, \n",
    "        frame = SimpleFrame(size=(10, 13)), \n",
    "        connection = ThreePointConnection(line_width=0.2, mask_radius=r*1e3), \n",
    "        height=h,\n",
    "        simplify=simplify,\n",
    "        generate = True,\n",
    "        show_axis=False,\n",
    "    )\n",
    "\n",
    "    date_str = datetime.now().strftime(\"%d.%m.%Y-%H.%M\")\n",
    "    mask_model.save(f\"out/fza_downsample{downsample}_radius{r*1000:.2f}mm{'_min' if simplify else ''}_{date_str}.step\")\n",
    "    return mask_model\n",
    "\n",
    "# coded aperture\n",
    "def ca_gen(n=4, r=0.03, h=0.5):\n",
    "    n_bits=n\n",
    "    joint_radius = r\n",
    "    simplify = True # simplifying the model into one solid object takes a considerable amount of time. But makes post processing easier.\n",
    "\n",
    "    mask = CodedAperture.from_sensor(\n",
    "        sensor_name=\"rpi_hq\", downsample=downsample, distance_sensor=distanse_sensor, n_bits=n_bits\n",
    "    )\n",
    "\n",
    "    mask_model = Mask3DModel.from_mask(mask, \n",
    "        frame = SimpleFrame(size=(10, 13)), \n",
    "        connection = CodedAppertureConnection(joint_radius=joint_radius),\n",
    "        height=h,\n",
    "        simplify=simplify,\n",
    "        generate = True,\n",
    "        show_axis=False,\n",
    "    )\n",
    "\n",
    "    date_str = datetime.now().strftime(\"%d.%m.%Y-%H.%M\")\n",
    "    mask_model.save(f\"out/coded_aperture_downsample{downsample}_nbits{n_bits}_r{joint_radius}{'_min' if simplify else ''}_{date_str}.step\")\n",
    "    return mask_model\n",
    "\n",
    "def mold_gen(N=24, dmin=0.5e-3, dmax=1.5e-3):\n",
    "    mask_model = HemnisphereLenses(N=N, dmin=dmin, dmax=dmax)\n",
    "\n",
    "    model = mold_from_mask(mask_model.model, size=(20e-3, 23e-3, 3e-3))\n",
    "\n",
    "    fname = f'out/Hemnisphere_mold_dmin_{dmin}_dmax_{dmax}_N_{N}.step'\n",
    "\n",
    "    cq.exporters.export(model, fname)\n",
    "\n",
    "    return model"
   ]
  },
  {
   "cell_type": "code",
   "execution_count": null,
   "metadata": {},
   "outputs": [],
   "source": [
    "# fza_gen(1e-3, 0.5)\n",
    "# fza_gen(1e-3, 1)\n",
    "# fza_gen(1.3e-3, 0.5)\n",
    "# fza_gen(1.3e-3, 1.0)\n",
    "# fza_gen(1.0e-3, 0.5)\n",
    "# fza_gen(1.0e-3, 1.0)\n",
    "# # display(model.model)\n",
    "# ca_gen(n=3, r=0.06, h=0.5)\n",
    "# ca_gen(n=3, r=0.06, h=1)\n",
    "# ca_gen(n=4, r=0.06, h=0.5)\n",
    "# ca_gen(n=4, r=0.06, h=1)\n",
    "\n",
    "# mold_gen(N=30, dmin=0.1e-3, dmax=1.5e-3)\n",
    "# mold_gen(N=30, dmin=0.1e-3, dmax=1e-3)\n",
    "# mold_gen(N=30, dmin=0.5e-3, dmax=1.5e-3)\n",
    "model = mold_gen(N=10, dmin=0.1e-3, dmax=1.5e-3)\n",
    "\n",
    "# this renders the model in the notebook interactively. This is very nice to visualize the model\n",
    "display(model)"
   ]
  }
 ],
 "metadata": {
  "kernelspec": {
   "display_name": "lensless",
   "language": "python",
   "name": "python3"
  },
  "language_info": {
   "codemirror_mode": {
    "name": "ipython",
    "version": 3
   },
   "file_extension": ".py",
   "mimetype": "text/x-python",
   "name": "python",
   "nbconvert_exporter": "python",
   "pygments_lexer": "ipython3",
   "version": "3.9.16"
  },
  "orig_nbformat": 4
 },
 "nbformat": 4,
 "nbformat_minor": 2
}
